{
  "nbformat": 4,
  "nbformat_minor": 0,
  "metadata": {
    "colab": {
      "name": "PotterNetwork.ipynb",
      "provenance": [],
      "collapsed_sections": [],
      "toc_visible": true
    },
    "kernelspec": {
      "name": "python3",
      "display_name": "Python 3"
    }
  },
  "cells": [
    {
      "cell_type": "code",
      "metadata": {
        "id": "_VWqJ_Pst6_4"
      },
      "source": [
        "import networkx as nx\n",
        "import matplotlib.pyplot as plt\n",
        "import csv\n",
        "from itertools import combinations\n",
        "from operator import itemgetter"
      ],
      "execution_count": null,
      "outputs": []
    },
    {
      "cell_type": "code",
      "metadata": {
        "id": "amYMhCFAulcP"
      },
      "source": [
        "# Caricamento file e costruzione del grafo\n",
        "file_csv = open('relations.csv', \"r\")\n",
        "next(file_csv, None)  # skip the first line in the input file\n",
        "Graphtype = nx.Graph()\n",
        "grafo = nx.parse_edgelist(file_csv, delimiter=',', create_using=Graphtype, \n",
        "                          nodetype=int, data=(('type',str),))"
      ],
      "execution_count": null,
      "outputs": []
    },
    {
      "cell_type": "code",
      "metadata": {
        "id": "LT5zQPu8vLlL"
      },
      "source": [
        "# Plot del grafo\n",
        "plt.figure(figsize = (12,12))\n",
        "nx.draw(grafo, node_size=600, font_color = \"w\", with_labels=True)\n"
      ],
      "execution_count": null,
      "outputs": []
    },
    {
      "cell_type": "code",
      "metadata": {
        "id": "u9NGEKFQ_uus"
      },
      "source": [
        "# Carica nomi e biografie dei personaggi dal file characters.csv \n",
        "# e li copia in un dizionario\n",
        "with open('characters.csv', mode='r') as characters_file:\n",
        "    next(characters_file, None)  # skip the first line in the input file\n",
        "    characters = {}\n",
        "    reader = csv.reader(characters_file)\n",
        "    for rows in reader:\n",
        "        id = rows[0]\n",
        "        name = rows[1]\n",
        "        bio = rows[2]\n",
        "        value = (name,bio)\n",
        "        characters[id]=value\n",
        "    print(characters)\n",
        "\n",
        "print(characters[\"11\"][0])"
      ],
      "execution_count": null,
      "outputs": []
    },
    {
      "cell_type": "code",
      "metadata": {
        "id": "oEcMhEftNeMa"
      },
      "source": [
        "# Dal grafo iniziale crea due sottografi, quello degli amici (arco con \"+\") e quello dei nemici (arco con \"-\")\n",
        "edge_labels = nx.get_edge_attributes(grafo,'type')\n",
        "friends = []\n",
        "enemies = []\n",
        "for edge in edge_labels:\n",
        "  value = edge_labels[edge]\n",
        "  if value == \"+\":\n",
        "    #print(edge, \"are friends\")\n",
        "    friends.append(edge)\n",
        "  else:\n",
        "    #print(edge, \"are enemies\")\n",
        "    enemies.append(edge)\n",
        "\n",
        "grafo_friends = grafo.edge_subgraph(friends)\n",
        "grafo_enemies = grafo.edge_subgraph(enemies)"
      ],
      "execution_count": null,
      "outputs": []
    },
    {
      "cell_type": "code",
      "metadata": {
        "id": "6cM_WSJoN9Sx"
      },
      "source": [
        "# Plotta il sottografo delle relazioni di amicizia\n",
        "plt.figure(figsize = (12,12))\n",
        "print(\"Sottografo amici\")\n",
        "nx.draw(grafo_friends, node_size=600, font_color = \"w\", with_labels=True)"
      ],
      "execution_count": null,
      "outputs": []
    },
    {
      "cell_type": "code",
      "metadata": {
        "id": "lil-uE6-OB_x"
      },
      "source": [
        "# Plotta il sottografo delle relazioni di inamicizia\n",
        "plt.figure(figsize = (12,12))\n",
        "print(\"Sottografo nemici\")\n",
        "nx.draw(grafo_enemies, node_size=600, font_color = \"w\", with_labels=True)"
      ],
      "execution_count": null,
      "outputs": []
    },
    {
      "cell_type": "code",
      "metadata": {
        "id": "0xFD0HoFOo9c"
      },
      "source": [
        "# Funzione che calcola la media tra i degree centrality di tutti i nodi\n",
        "def avg_degree_centrality(grafo):\n",
        "  degree_centrality_values = nx.degree_centrality(grafo)\n",
        "  somma = 0\n",
        "  for key in degree_centrality_values:\n",
        "    somma = somma + degree_centrality_values[key]\n",
        "  average = somma / grafo.number_of_nodes()\n",
        "  return average\n",
        "\n",
        "# Stampa la media tra le degree centrality dei nodi del sottografo amici\n",
        "print(\"AVG degree centrality - sottografo AMICI: \",avg_degree_centrality(grafo_friends))\n",
        "\n",
        "# Stampa la media tra le degree centrality dei nodi del sottografo nemici\n",
        "print(\"AVG degree centrality - sottografo NEMICI: \", avg_degree_centrality(grafo_enemies))"
      ],
      "execution_count": null,
      "outputs": []
    },
    {
      "cell_type": "code",
      "metadata": {
        "id": "lkHH-_eektO3"
      },
      "source": [
        "# Top n nodo per degree centrality \n",
        "# es. n = 0 -> trova nodo con degree centrality più alta\n",
        "# es. n =-1 -> trova nodo con degree centrality più bassa\n",
        "def nodo_degree_centrality_top_n(n, grafo):\n",
        "  degree_centrality_values = nx.degree_centrality(grafo)\n",
        "  dc_sorted = sorted(degree_centrality_values.items(), key=lambda x:x[1], reverse=True)\n",
        "  top_n = dc_sorted[n]\n",
        "  nodo = (characters[str(top_n[0])][0],top_n[1])\n",
        "  return nodo\n",
        "\n",
        "# Stampa il nodo con degree centrality più alta del sottografo amici\n",
        "print(\"Nodo con degree centrality più ALTA del sottografo amici: \",\n",
        "      nodo_degree_centrality_top_n(0, grafo_friends))\n",
        "\n",
        "# Stampa il nodo con degree centrality più bassa del sottografo amici\n",
        "print(\"Nodo con degree centrality più BASSA del sottografo amici: \",\n",
        "      nodo_degree_centrality_top_n(-1, grafo_friends))\n",
        "\n",
        "print(\"\\n\")\n",
        "\n",
        "# Stampa il nodo con degree centrality più alta del sottografo nemici\n",
        "print(\"Nodo con degree centrality più ALTA del sottografo nemici\",\n",
        "      nodo_degree_centrality_top_n(0, grafo_enemies))\n",
        "\n",
        "# Stampa il nodo con degree centrality più bassa del sottografo nemici\n",
        "print(\"Nodo con degree centrality più BASSA del sottografo nemici\",\n",
        "      nodo_degree_centrality_top_n(-1, grafo_enemies))\n",
        "\n",
        "\n",
        "\n"
      ],
      "execution_count": null,
      "outputs": []
    },
    {
      "cell_type": "code",
      "metadata": {
        "id": "yXlnwaKSJJwR"
      },
      "source": [
        "# Top 10 degree centrality sottografo AMICI\n",
        "print(\"Personaggi con PIU' amici\")\n",
        "for i in range(0,10):\n",
        "  personaggio = nodo_degree_centrality_top_n(i, grafo_friends)\n",
        "  print(i+1,\"->\",personaggio)\n",
        "\n",
        "print(\"\\n\")\n",
        "\n",
        "print(\"Personaggio con MENO amici\")\n",
        "for i in range(-1,-11,-1):\n",
        "  personaggio = nodo_degree_centrality_top_n(i, grafo_friends)\n",
        "  print(-i,\"->\",personaggio)\n"
      ],
      "execution_count": null,
      "outputs": []
    },
    {
      "cell_type": "code",
      "metadata": {
        "id": "Q9utpQ0uMTFs"
      },
      "source": [
        "# Top 10 degree centrality sottografo NEMICI\n",
        "print(\"Personaggi con PIU' nemici\")\n",
        "for i in range(0,10):\n",
        "  personaggio = nodo_degree_centrality_top_n(i, grafo_enemies)\n",
        "  print(i+1,\"->\",personaggio)\n",
        "\n",
        "print(\"\\n\")\n",
        "\n",
        "print(\"Personaggio con MENO nemici\")\n",
        "for i in range(-1,-11,-1):\n",
        "  personaggio = nodo_degree_centrality_top_n(i, grafo_enemies)\n",
        "  print(-i,\"->\",personaggio)"
      ],
      "execution_count": null,
      "outputs": []
    },
    {
      "cell_type": "code",
      "metadata": {
        "id": "oZR81TqigMsv"
      },
      "source": [
        "# Funzione per il calcolo della densità del grafo\n",
        "def densità(grafo):\n",
        "  n_archi = grafo.number_of_edges()\n",
        "  n_archi_possibili = (n_archi * (n_archi-1))/2\n",
        "  densità = n_archi/n_archi_possibili\n",
        "  return(densità)\n",
        "\n",
        "# Stampa la densità del sottografo amici\n",
        "print(\"Densità sottografo AMICI: \",densità(grafo_friends))\n",
        "\n",
        "print(\"\\n\")\n",
        "\n",
        "# Stampa la densità del sottografo nemici\n",
        "print(\"Densità sottografo NEMICI: \",densità(grafo_enemies))\n"
      ],
      "execution_count": null,
      "outputs": []
    },
    {
      "cell_type": "code",
      "metadata": {
        "id": "-ZB-mxrSqyX3"
      },
      "source": [
        "# Funzione che calcola la media tra le closeness centrality di tutti i nodi\n",
        "def avg_closeness_centrality(grafo):\n",
        "  closeness_centrality_values = nx.closeness_centrality(grafo)\n",
        "  somma = 0\n",
        "  for key in closeness_centrality_values:\n",
        "    somma = somma + closeness_centrality_values[key]\n",
        "  average = somma / grafo.number_of_nodes()\n",
        "  return average\n",
        "\n",
        "# Stampa la media tra le closeness centrality dei nodi del sottografo amici\n",
        "print(\"AVG closeness centrality - sottografo AMICI: \",avg_closeness_centrality(grafo_friends))\n",
        "\n",
        "print(\"\\n\")\n",
        "\n",
        "# Stampa la media tra le closeness centrality dei nodi del sottografo nemici\n",
        "print(\"AVG closeness centrality - sottografo NEMICI: \", avg_closeness_centrality(grafo_enemies))\n",
        "\n"
      ],
      "execution_count": null,
      "outputs": []
    },
    {
      "cell_type": "code",
      "metadata": {
        "id": "g97PABqvrg2o"
      },
      "source": [
        "# Top n nodo per closeness centrality \n",
        "# es. n = 0 -> nodo con closeness centrality più alta\n",
        "# es. n =-1 -> nodo con closeness centrality più bassa\n",
        "def nodo_closeness_centrality_top_n(n, grafo):\n",
        "  closeness_centrality_values = nx.closeness_centrality(grafo)\n",
        "  cc_sorted = sorted(closeness_centrality_values.items(), key=lambda x:x[1], reverse=True)\n",
        "  top_n = cc_sorted[n]\n",
        "  nodo = (characters[str(top_n[0])][0],top_n[1])\n",
        "  return nodo\n",
        "\n",
        "# Stampa il nodo con closeness centrality più alta del sottografo amici\n",
        "print(\"Nodo con closeness centrality più ALTA del sottografo amici: \",\n",
        "      nodo_closeness_centrality_top_n(0, grafo_friends))\n",
        "\n",
        "# Stampa il nodo con closeness centrality più bassa del sottografo amici\n",
        "print(\"Nodo con closeness centrality più BASSA del sottografo amici: \",\n",
        "      nodo_closeness_centrality_top_n(-1, grafo_friends))\n",
        "\n",
        "print(\"\\n\")\n",
        "\n",
        "# Stampa il nodo con closeness centrality più alta del sottografo nemici\n",
        "print(\"Nodo con closeness centrality più ALTA del sottografo nemici\",\n",
        "      nodo_closeness_centrality_top_n(0, grafo_enemies))\n",
        "\n",
        "# Stampa il nodo con closeness centrality più bassa del sottografo nemici\n",
        "print(\"Nodo con closeness centrality più BASSA del sottografo nemici\",\n",
        "      nodo_closeness_centrality_top_n(-1, grafo_enemies))\n"
      ],
      "execution_count": null,
      "outputs": []
    },
    {
      "cell_type": "code",
      "metadata": {
        "id": "5Ve6CArNM02a"
      },
      "source": [
        "# Top 10 closeness centrality sottografo AMICI\n",
        "print(\"Personaggi PIU' vicini al centro\")\n",
        "for i in range(0,10):\n",
        "  personaggio = nodo_closeness_centrality_top_n(i, grafo_friends)\n",
        "  print(i+1,\"->\",personaggio)\n",
        "\n",
        "print(\"\\n\")\n",
        "\n",
        "print(\"Personaggi MENO vicini al centro\")\n",
        "for i in range(-1,-11,-1):\n",
        "  personaggio = nodo_closeness_centrality_top_n(i, grafo_friends)\n",
        "  print(-i,\"->\",personaggio)"
      ],
      "execution_count": null,
      "outputs": []
    },
    {
      "cell_type": "code",
      "metadata": {
        "id": "W-VIrhMONsOe"
      },
      "source": [
        "# Top 10 closeness centrality sottografo NEMICI\n",
        "print(\"Personaggi PIU' vicini al centro\")\n",
        "for i in range(0,10):\n",
        "  personaggio = nodo_closeness_centrality_top_n(i, grafo_enemies)\n",
        "  print(i+1,\"->\",personaggio)\n",
        "\n",
        "print(\"\\n\")\n",
        "\n",
        "print(\"Personaggi MENO vicini al centro\")\n",
        "for i in range(-1,-11,-1):\n",
        "  personaggio = nodo_closeness_centrality_top_n(i, grafo_enemies)\n",
        "  print(-i,\"->\",personaggio)"
      ],
      "execution_count": null,
      "outputs": []
    },
    {
      "cell_type": "code",
      "metadata": {
        "id": "SgzHuePcsN2J"
      },
      "source": [
        "# Top n nodo per betweenness centrality \n",
        "# es. n = 0 -> nodo con betweenness centrality più alta\n",
        "# es. n =-1 -> nodo con betweenness centrality più bassa\n",
        "def nodo_betweenness_centrality_top_n(n, grafo):\n",
        "  betweenness_centrality_values = nx.betweenness_centrality(grafo)\n",
        "  bc_sorted = sorted(betweenness_centrality_values.items(), key=lambda x:x[1], reverse=True)\n",
        "  top_n = bc_sorted[n]\n",
        "  nodo = (characters[str(top_n[0])][0],top_n[1])\n",
        "  return nodo\n",
        "\n",
        "# Stampa il nodo con betweenness centrality più alta del sottografo amici\n",
        "print(\"Nodo con betweenness centrality più ALTA del sottografo amici: \",\n",
        "      nodo_betweenness_centrality_top_n(0, grafo_friends))\n",
        "\n",
        "# Stampa il nodo con betweenness centrality più bassa del sottografo amici\n",
        "print(\"Nodo con betweenness centrality più BASSA del sottografo amici: \",\n",
        "      nodo_betweenness_centrality_top_n(-1, grafo_friends))\n",
        "\n",
        "print(\"\\n\")\n",
        "\n",
        "# Stampa il nodo con betweenness centrality più alta del sottografo nemici\n",
        "print(\"Nodo con betweenness centrality più ALTA del sottografo nemici\",\n",
        "      nodo_betweenness_centrality_top_n(0, grafo_enemies))\n",
        "\n",
        "# Stampa il nodo con betweenness centrality più bassa del sottografo nemici\n",
        "print(\"Nodo con betweenness centrality più BASSA del sottografo nemici\",\n",
        "      nodo_betweenness_centrality_top_n(-1, grafo_enemies))\n"
      ],
      "execution_count": null,
      "outputs": []
    },
    {
      "cell_type": "code",
      "metadata": {
        "id": "wGx7ZVc3RYxl"
      },
      "source": [
        "# Top 10 betweenness centrality sottografo AMICI\n",
        "print(\"Personaggi MOLTO bridge\")\n",
        "for i in range(0,10):\n",
        "  personaggio = nodo_betweenness_centrality_top_n(i, grafo_friends)\n",
        "  print(i+1,\"->\",personaggio)\n",
        "\n",
        "print(\"\\n\")\n",
        "\n",
        "print(\"Personaggi MENO bridge\")\n",
        "for i in range(-1,-11,-1):\n",
        "  personaggio = nodo_betweenness_centrality_top_n(i, grafo_friends)\n",
        "  print(-i,\"->\",personaggio)"
      ],
      "execution_count": null,
      "outputs": []
    },
    {
      "cell_type": "code",
      "metadata": {
        "id": "yCygEpf_SAcd"
      },
      "source": [
        "# Top 10 betweenness centrality sottografo NEMICI\n",
        "print(\"Personaggi MOLTO bridge\")\n",
        "for i in range(0,10):\n",
        "  personaggio = nodo_betweenness_centrality_top_n(i, grafo_enemies)\n",
        "  print(i+1,\"->\",personaggio)\n",
        "\n",
        "print(\"\\n\")\n",
        "\n",
        "print(\"Personaggi MENO bridge\")\n",
        "for i in range(-1,-11,-1):\n",
        "  personaggio = nodo_betweenness_centrality_top_n(i, grafo_enemies)\n",
        "  print(-i,\"->\",personaggio)"
      ],
      "execution_count": null,
      "outputs": []
    },
    {
      "cell_type": "code",
      "metadata": {
        "id": "ikElHMf-ugrq"
      },
      "source": [
        "# Top n nodo per eigenvector centrality \n",
        "# es. n = 0 -> nodo con eigenvector centrality più alta\n",
        "# es. n =-1 -> nodo con eigenvector centrality più bassa\n",
        "def nodo_eigenvector_centrality_top_n(n, grafo):\n",
        "  eigenvector_centrality_values = nx.eigenvector_centrality(grafo)\n",
        "  ec_sorted = sorted(eigenvector_centrality_values.items(), key=lambda x:x[1], reverse=True)\n",
        "  top_n = ec_sorted[n]\n",
        "  nodo = (characters[str(top_n[0])][0],top_n[1])\n",
        "  return nodo\n",
        "\n",
        "# Stampa il nodo con eigenvector centrality più alta del sottografo amici\n",
        "print(\"Nodo con eigenvector centrality più ALTA del sottografo amici: \",\n",
        "      nodo_eigenvector_centrality_top_n(0, grafo_friends))\n",
        "\n",
        "# Stampa il nodo con eigenvector centrality più bassa del sottografo amici\n",
        "print(\"Nodo con eigenvector centrality più BASSA del sottografo amici: \",\n",
        "      nodo_eigenvector_centrality_top_n(-1, grafo_friends))\n",
        "\n",
        "print(\"\\n\")\n",
        "\n",
        "# Stampa il nodo con eigenvector centrality più alta del sottografo nemici\n",
        "print(\"Nodo con eigenvector centrality più ALTA del sottografo nemici\",\n",
        "      nodo_eigenvector_centrality_top_n(0, grafo_enemies))\n",
        "\n",
        "# Stampa il nodo con eigenvector centrality più bassa del sottografo nemici\n",
        "print(\"Nodo con eigenvector centrality più BASSA del sottografo nemici\",\n",
        "      nodo_eigenvector_centrality_top_n(-1, grafo_enemies))\n"
      ],
      "execution_count": null,
      "outputs": []
    },
    {
      "cell_type": "code",
      "metadata": {
        "id": "6LDQjzwsSQZ8"
      },
      "source": [
        "# Top 10 eigenvector centrality sottografo AMICI\n",
        "print(\"Personaggi MOLTO eminenze grigie\")\n",
        "for i in range(0,10):\n",
        "  personaggio = nodo_eigenvector_centrality_top_n(i, grafo_friends)\n",
        "  print(i+1,\"->\",personaggio)\n",
        "\n",
        "print(\"\\n\")\n",
        "\n",
        "print(\"Personaggi POCO eminenze grigie\")\n",
        "for i in range(-1,-11,-1):\n",
        "  personaggio = nodo_eigenvector_centrality_top_n(i, grafo_friends)\n",
        "  print(-i,\"->\",personaggio)"
      ],
      "execution_count": null,
      "outputs": []
    },
    {
      "cell_type": "code",
      "metadata": {
        "id": "fb1f1sWSSzW6"
      },
      "source": [
        "# Top 10 eigenvector centrality sottografo NEMICI\n",
        "print(\"Personaggi MOLTO eminenze grigie\")\n",
        "for i in range(0,10):\n",
        "  personaggio = nodo_eigenvector_centrality_top_n(i, grafo_enemies)\n",
        "  print(i+1,\"->\",personaggio)\n",
        "\n",
        "print(\"\\n\")\n",
        "\n",
        "print(\"Personaggi POCO eminenze grigie\")\n",
        "for i in range(-1,-11,-1):\n",
        "  personaggio = nodo_eigenvector_centrality_top_n(i, grafo_enemies)\n",
        "  print(-i,\"->\",personaggio)"
      ],
      "execution_count": null,
      "outputs": []
    },
    {
      "cell_type": "code",
      "metadata": {
        "id": "SLiyvh04DgH3"
      },
      "source": [
        "# Funzione che calcola le triadi del grafo\n",
        "def trova_triadi(grafo):\n",
        "  triadi = {}\n",
        "  for nodes in combinations(grafo.nodes, 3):\n",
        "    n_edges = grafo.subgraph(nodes).number_of_edges()\n",
        "    triadi.setdefault(n_edges, []).append(nodes)\n",
        "  return(triadi)\n",
        "\n",
        "# Stampa le triadi del sottografo amici\n",
        "print(\"Sottografo AMICI\")\n",
        "triadi_grafo_friends = trova_triadi(grafo_friends)\n",
        "print(\"Numero di triadi: \", len(triadi_grafo_friends[1]))\n",
        "print(\"Triadi: \", triadi_grafo_friends)\n",
        "\n",
        "print(\"\\n\")\n",
        "\n",
        "# Stampa le triadi del sottografo nemici\n",
        "print(\"Sottografo NEMICI\")\n",
        "triadi_grafo_enemies = trova_triadi(grafo_enemies)\n",
        "print(\"Numero di triadi: \", len(triadi_grafo_enemies[1]))\n",
        "print(\"Triadi del sottografo NEMICI: \",triadi_grafo_enemies)\n"
      ],
      "execution_count": null,
      "outputs": []
    },
    {
      "cell_type": "code",
      "metadata": {
        "id": "cyKLwb8JFnuy"
      },
      "source": [
        "# Calcolo raggio, diametro e periferia del sottografo nemici\n",
        "print(\"Sottografo NEMICI\")\n",
        "print(\"Raggio: \",nx.radius(grafo_enemies))\n",
        "print(\"Diametro: \",nx.diameter(grafo_enemies))\n",
        "periferia_grafo_enemies = nx.periphery(grafo_enemies)\n",
        "print(\"Periferia: \",periferia_grafo_enemies)"
      ],
      "execution_count": null,
      "outputs": []
    },
    {
      "cell_type": "code",
      "metadata": {
        "id": "rf1d3hROvUu8"
      },
      "source": [
        "# Copia del sottografo amici per eliminare le componenti sconnesse (più piccole)\n",
        "# in modo da mantenere la componente connessa più grande\n",
        "grafo_friends_ridotto = nx.Graph(grafo_friends)\n",
        "grafo_friends_ridotto.remove_node(12)\n",
        "grafo_friends_ridotto.remove_node(13)\n",
        "grafo_friends_ridotto.remove_node(14)\n",
        "grafo_friends_ridotto.remove_node(43)\n",
        "grafo_friends_ridotto.remove_node(44)"
      ],
      "execution_count": null,
      "outputs": []
    },
    {
      "cell_type": "code",
      "metadata": {
        "id": "7dSfMoMZuWbC"
      },
      "source": [
        "# Calcolo raggio, diametro e periferia del sottografo amici\n",
        "print(\"Sottografo AMICI\")\n",
        "print(\"Raggio: \",nx.radius(grafo_friends_ridotto))\n",
        "print(\"Diametro: \",nx.diameter(grafo_friends_ridotto))\n",
        "periferia_grafo_friends = nx.periphery(grafo_friends_ridotto)\n",
        "print(\"Periferia: \",periferia_grafo_friends)"
      ],
      "execution_count": null,
      "outputs": []
    },
    {
      "cell_type": "code",
      "metadata": {
        "id": "IA7wWumsFonl"
      },
      "source": [
        "# Costruzione della Ego network per i nemici\n",
        "\n",
        "# Trova il nodo con il degree più alto\n",
        "node_and_degree = grafo_enemies.degree()\n",
        "(largest_hub, degree_hub) = sorted(node_and_degree, key=itemgetter(1))[-1]\n",
        "\n",
        "# Crea l'ego network dal componente principale (largest hub)\n",
        "hub_ego = nx.ego_graph(grafo_enemies, largest_hub)\n",
        "\n",
        "# Plotta i nodi attorno al nodo ego\n",
        "pos = nx.spring_layout(hub_ego)\n",
        "nx.draw(hub_ego, pos, node_color='w', node_size=300, with_labels=True)\n",
        "\n",
        "# Plotta il nodo ego (grande rosso)\n",
        "nx.draw_networkx_nodes(hub_ego, pos, nodelist=[largest_hub], node_size=500, node_color='r', with_labels=True)\n",
        "plt.show()"
      ],
      "execution_count": null,
      "outputs": []
    },
    {
      "cell_type": "code",
      "metadata": {
        "id": "9-Ky53YQxoud"
      },
      "source": [
        "# Costruzione della Ego network per gli amici\n",
        "\n",
        "# Trova il nodo con il degree più alto\n",
        "node_and_degree = grafo_friends_ridotto.degree()\n",
        "(largest_hub, degree_hub) = sorted(node_and_degree, key=itemgetter(1))[-1]\n",
        "\n",
        "# Crea l'ego network dal componente principale (largest hub)\n",
        "hub_ego = nx.ego_graph(grafo_friends_ridotto, largest_hub)\n",
        "\n",
        "# Plotta i nodi attorno al nodo ego\n",
        "pos = nx.spring_layout(hub_ego)\n",
        "nx.draw(hub_ego, pos, node_color='w', node_size=300, with_labels=True)\n",
        "\n",
        "# Plotta il nodo ego (grande rosso)\n",
        "nx.draw_networkx_nodes(hub_ego, pos, nodelist=[largest_hub], node_size=500, node_color='r', with_labels=True)\n",
        "plt.show()"
      ],
      "execution_count": null,
      "outputs": []
    },
    {
      "cell_type": "code",
      "metadata": {
        "id": "I0enSt7yKjyb"
      },
      "source": [
        "print(characters[\"13\"],[1])\n",
        "#12 e 22 Hagrid con Dudley\n",
        "#13 e 41 odio tra le sorelle Petunia e Lily Potter\n",
        "#33 e 59 lucius malfoy e dobby\n"
      ],
      "execution_count": null,
      "outputs": []
    },
    {
      "cell_type": "code",
      "metadata": {
        "id": "a5s7-IWI2fwT"
      },
      "source": [
        "degree_centrality_values_friends = nx.degree_centrality(grafo_friends)\n",
        "degree_centrality_values_enemies = nx.degree_centrality(grafo_enemies)\n",
        "print(degree_centrality_values_friends)\n",
        "\n",
        "for id, value in degree_centrality_values_friends.items():    \n",
        "    if id == 32:\n",
        "        print(\"Degree centrality FRIENDS di drago:\", value)\n",
        "\n",
        "\n",
        "\n",
        "for id, value in degree_centrality_values_enemies.items():    \n",
        "    if id == 32:\n",
        "        print(\"Degree centrality ENEMIES di drago:\", value)\n",
        "\n",
        "\n",
        "\n",
        "\n",
        "for id, value in degree_centrality_values_friends.items():    \n",
        "    if id == 39:\n",
        "        print(\"Degree centrality FRIENDS di harry:\", value)\n",
        "\n",
        "\n",
        "\n",
        "for id, value in degree_centrality_values_enemies.items():    \n",
        "    if id == 39:\n",
        "        print(\"Degree centrality ENEMIES di harry:\", value)\n",
        "\n",
        "\n",
        "\n",
        "\n",
        "for id, value in degree_centrality_values_friends.items():    \n",
        "    if id == 21:\n",
        "        print(\"Degree centrality FRIENDS di hermione:\", value)\n",
        "\n",
        "\n",
        "\n",
        "for id, value in degree_centrality_values_enemies.items():    \n",
        "    if id == 21:\n",
        "        print(\"Degree centrality ENEMIES di hermione:\", value)\n",
        "\n",
        "\n",
        "\n",
        "for id, value in degree_centrality_values_friends.items():    \n",
        "    if id == 27:\n",
        "        print(\"Degree centrality FRIENDS lavender:\", value)\n",
        "\n",
        "\n",
        "\n",
        "for id, value in degree_centrality_values_enemies.items():    \n",
        "    if id == 27:\n",
        "        print(\"Degree centrality ENEMIES lavender:\", value)\n"
      ],
      "execution_count": null,
      "outputs": []
    },
    {
      "cell_type": "code",
      "metadata": {
        "id": "7KFxlXUmJZsA"
      },
      "source": [
        "degree_centrality_values = nx.degree_centrality(grafo_friends)\n",
        "posizione = 0\n",
        "for id, value in degree_centrality_values.items():\n",
        "    posizione = posizione + 1\n",
        "    if id == 6:\n",
        "        print(\"Barty crouch sr. dc -> \", value)\n",
        "        print(\"posizione: \", posizione)\n"
      ],
      "execution_count": null,
      "outputs": []
    },
    {
      "cell_type": "code",
      "metadata": {
        "id": "OTtpysiA0FqO"
      },
      "source": [
        "cycle_3 = [c for c in nx.cycle_basis(grafo_friends) if len(c)==3]\n",
        "print(cycle_3)"
      ],
      "execution_count": null,
      "outputs": []
    },
    {
      "cell_type": "markdown",
      "metadata": {
        "id": "daFO7C2qK6bD"
      },
      "source": [
        "# New Section"
      ]
    }
  ]
}